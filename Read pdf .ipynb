{
 "cells": [
  {
   "cell_type": "markdown",
   "metadata": {},
   "source": [
    "## Test block"
   ]
  },
  {
   "cell_type": "code",
   "execution_count": 69,
   "metadata": {},
   "outputs": [],
   "source": [
    "import os\n",
    "import requests\n",
    "import json\n",
    "import base64\n",
    "\n",
    "if 'pdfs' not in os.getcwd():\n",
    "    os.chdir(os.getcwd() + '/pdfs')  # folder with all pdfs\n",
    "for file in os.listdir(os.getcwd()):\n",
    "    if 'enzo' in file.lower():\n",
    "        file = os.getcwd() + '/' + file\n",
    "        break\n",
    "\n",
    "key = 'd505f32a7e88957'\n",
    "\n",
    "# Extract text with English language by default\n",
    "RequestUrl = \"https://api.ocr.space/parse/image\"\n",
    "\n",
    "with open(file, 'rb') as image_file:\n",
    "    image_data = image_file.read()\n",
    "\n",
    "data_params = {\n",
    "    'apikey': key,\n",
    "    'base64image': 'data:application/pdf;base64,' + str(base64.b64encode(image_data))[2:-1],\n",
    "    'language': 'fre',\n",
    "}\n",
    "    \n",
    "r = requests.post(RequestUrl, data=data_params)"
   ]
  },
  {
   "cell_type": "code",
   "execution_count": 70,
   "metadata": {},
   "outputs": [],
   "source": [
    "if r.status_code == 401:\n",
    "    # Please provide valid username and license code\n",
    "    print(\"Unauthorized request\")\n",
    "    exit()\n",
    "\n",
    "# Decode Output response\n",
    "txt_tst = str(json.loads(r.content))"
   ]
  },
  {
   "cell_type": "code",
   "execution_count": 78,
   "metadata": {},
   "outputs": [
    {
     "data": {
      "text/plain": [
       "'{\\'ParsedResults\\': [{\\'TextOverlay\\': {\\'Lines\\': [], \\'HasOverlay\\': False, \\'Message\\': \\'Text overlay is not provided as it is not requested\\'}, \\'TextOrientation\\': \\'0\\', \\'FileParseExitCode\\': 1, \\'ParsedText\\': \"14/12/2021 14:30\\\\r\\\\nZimbra\\\\r\\\\nZimbra\\\\r\\\\nenzo.da-rocha-paes•alves•barreto@ec121.ec-lyon.fr\\\\r\\\\nRésumé de votre questionnaire : sc_ELC_S8 - Choix des cours électifs du S8\\\\r\\\\nDe : Anonymous-User WWW <webuser@eclll servers.ec-\\\\r\\\\nlyon.fr>\\\\r\\\\nObjet : Résumé de votre questionnaire : sc_ELC_S8 - Choix des\\\\r\\\\ncours électifs du S8\\\\r\\\\nÀ : enzo da-rocha-paes-alves-barreto <enzo.da-rocha-paes-\\\\r\\\\ncatherine musy\\\\r\\\\nDate : lundi 13 décembre 2021 à 13:59\\\\r\\\\nlun., 13 déc. 2021 13:59\\\\r\\\\nQuestionnaire : - Choix des cours électifs du S8\\\\r\\\\nExplication\\\\r\\\\nUne première Action de Formation (AF) sera affectée à chaque élève par\\\\r\\\\nordre de mise MI décroissante en fonction des voeux exprimés (la mieux\\\\r\\\\nplacée possible dans l\\'ordre des voeux) et des places disponibles dans les AF.\\\\r\\\\nUne deuxième AF sera ensuite affectée à chacun par ordre de mise M2\\\\r\\\\ndécroissante en fonction des voeux exprimés (la mieux placée possible dans\\\\r\\\\nl\\'ordre des voeux), des places disponibles dans les AF et des créneaux encore\\\\r\\\\ndisponibles pour l\\'élève.\\\\r\\\\nEtc... jusqu\\'à 5 AF.\\\\r\\\\nPrincipe : une forte Ml signifie que vous tenez fortement à avoir votre 1er\\\\r\\\\nchoix en acceptant l\\'aléa sur les affectations suivantes.\\\\r\\\\nLes mises doivent donc être décroissantes : Ml>=M2>=M3>=M4>=M5 avec\\\\r\\\\nMl+M2+M3+M4+M5 100. Les mises non entières sont autorisées.\\\\r\\\\nMise sur la 1ère affectation\\\\r\\\\nMise sur la 2ème affectation\\\\r\\\\nMise sur la 3ème affectation\\\\r\\\\nMise sur la 4ème affectation\\\\r\\\\nMise sur la 5ème affectation\\\\r\\\\nMise 1\\\\r\\\\nMise 2\\\\r\\\\nMise 3\\\\r\\\\nMise 4\\\\r\\\\nMise 5\\\\r\\\\n: 34\\\\r\\\\n31\\\\r\\\\n: 25\\\\r\\\\nPour vérification, saisissez la somme de vos mises :\\\\r\\\\nCHELS\\\\r\\\\nSomme mises\\\\r\\\\n: 100\\\\r\\\\nDans l\\'attente des résultats des candidatures CHELS, il sera affecté 5 cours\\\\r\\\\nde l\\'UE ELC aux élèves ayant postulé. Un cours sera supprimé en cas\\\\r\\\\nd\\'acceptation par le CH ELS. Ce cours sera soit le dernier attribué soit celui qui\\\\r\\\\ndonne lieu à incompatibilité d\\'emploi du temps le cas échéant.\\\\r\\\\nJ\\'ai postulé pour un cours du CHELS\\\\r\\\\nRéponse : non\\\\r\\\\nhttps://messagerie\\\\r\\\\n\", \\'ErrorMessage\\': \\'\\', \\'ErrorDetails\\': \\'\\'}, {\\'TextOverlay\\': {\\'Lines\\': [], \\'HasOverlay\\': False, \\'Message\\': \\'Text overlay is not provided as it is not requested\\'}, \\'TextOrientation\\': \\'0\\', \\'FileParseExitCode\\': 1, \\'ParsedText\\': \"14/12/2021 14:30\\\\r\\\\nClassement des voeux\\\\r\\\\nZimbra\\\\r\\\\nRappel : la lettre apparaissant dans le code de l\\'AF correspond à son\\\\r\\\\ncréneau dans la semaine (ex : A = lundi matin). Une seule AF du même créneau\\\\r\\\\npeut être affectée à un élève.\\\\r\\\\nClasse\\' toutes les AF par ordre de choix décroissant (le choix 1\\\\r\\\\ncorrespondant à l\\'AF à laquelle vous tenez le plus).\\\\r\\\\nLes titres en gras correspondent aux cours enseignés en langue anglaise ou en\\\\r\\\\nmixte anglais-français.\\\\r\\\\nAttention : si vous ne classez pas toutes les AF, vous prenez le risque d\\'être\\\\r\\\\naffecté(e) aléatoirement.\\\\r\\\\n1 - Finance d\\'entreprise - C-9 - S. MIRA\\\\r\\\\n2 - Finance de marché - F-l - C. DE PERETTI\\\\r\\\\n3 - Marketing - B-12 - S MIRA\\\\r\\\\n4 - Entreprendre et innover - F-7 - P. SERRAFERO, T. FARGERE\\\\r\\\\n5 - Vivant, Information et Système - A-10 - B. LAFAY; G. SCORLETTI, J.\\\\r\\\\nHUILLERY\\\\r\\\\n6 - Mécanique des sols - C-6 - E. VINCENS, E FROIIO\\\\r\\\\n7 - Les enjeux de la transition écologique - A-12 - . L FLANDRIN, R. SAUZET\\\\r\\\\n8 - Philosophie des sciences et techniques - C-8 - R. SAUZET\\\\r\\\\n9 - Conception d\\'un emballage responsable 8-10 - C. GIRAUD-MAINAND, M.\\\\r\\\\nSALVIA\\\\r\\\\n10 - Collaborer et manager à l\\'ère du numérique - E-2 - J. VACHERAND REVEL, N.\\\\r\\\\nHOURCADE\\\\r\\\\n11 - Mondialisation et transculturalités - E-9 - C. LACOIN\\\\r\\\\n12 - Machine Learning et Applications - D-l - C. HARTWEG-HELBERT, Y DE\\\\r\\\\nCASTRO\\\\r\\\\n13 - Ingénierie pour la santé - 8-5 - E. LAURENCEAU, R. RIEGER\\\\r\\\\n14 - Prototypage rapide par Fablab - B-6 - B. HOUX, D. NAVARRO\\\\r\\\\n15 - Communication interpersonnelle et pratiques professionnelles - D-7 - J.\\\\r\\\\nVACHERAND REVEL\\\\r\\\\n16 - Des déchets et des hommes - F-IO - R. SAUZET\\\\r\\\\n17 - Savoir choisir un matériau - E-5 - V. FRIDRICI\\\\r\\\\n18 - Applications web - D-3 - D MULLER, R. CHALON\\\\r\\\\n19 - An Introduction to Meteorology and Oceanography - C-3 - P.\\\\r\\\\nSALIZZONI, R. PERKINS\\\\r\\\\n20 - Algorithme et raisonnement - E-l - A. SADI, E. DELLANDREA\\\\r\\\\n21 - Ingénierie des Procédés Industriels - E-4 - E. BLANCO, J. CLOAREC\\\\r\\\\n22 - Eoliennes - D-9 - E. VAGNON, P. DUQUESNE\\\\r\\\\n23 - Matériaux polymères : propriétés physiques et innovations - F-9 - F\\\\r\\\\nDUBREUIL, M. SALVIA\\\\r\\\\n24 - Les Métamatériaux Mécaniques - A-2 - M. COLLET, O. BAREILLE\\\\r\\\\n25 - PIM - Maquette numérique - D-6 - D. LACOUR\\\\r\\\\n26 - Algorithmes collaboratifs et applications - B-2 - A. SADI, P. MICHEL\\\\r\\\\n27 - Programmation des interfaces graphiques en C++ - A-11 - E. DELLANDREA, S.\\\\r\\\\nDERRODE\\\\r\\\\n28 - Sociologie des comportements politiques - 8-9 - N. HOURCADE\\\\r\\\\n29 - Capteurs et traitement d\\'images - C-4 - D. NAVARRO, L. CHEN\\\\r\\\\n30 - Elaboration de pièces techniques - 8-8 - B. HOUX, D. MAZUYER\\\\r\\\\n31 - Mécanique des structures minces : Plaques et Coques - A-7 - C. NOUGUIER, H.\\\\r\\\\nMAGOARIEC\\\\r\\\\nhttps://messagerie\\\\r\\\\n\", \\'ErrorMessage\\': \\'\\', \\'ErrorDetails\\': \\'\\'}, {\\'TextOverlay\\': {\\'Lines\\': [], \\'HasOverlay\\': False, \\'Message\\': \\'Text overlay is not provided as it is not requested\\'}, \\'TextOrientation\\': \\'0\\', \\'FileParseExitCode\\': 1, \\'ParsedText\\': \"14/12/2021 14:30\\\\r\\\\nZimbra\\\\r\\\\n32 - Méthode des éléments finis, de la théorie à la mise en oeuvre - A-1 - A. ZINE\\\\r\\\\n33 - Ingénierie Nucléaire - 8-4 - A. CALLARD, A. LAMIRAND, B. VILQUIN\\\\r\\\\n34 - Théorie des probabilités et introduction aux processus stochastiques - F-ll - E.\\\\r\\\\nMIRONESCU, C. BLANCHET\\\\r\\\\n35 - Systèmes autonomes de production (SAP) - D-8 - A KORNIIENKO, E.\\\\r\\\\nBOUTLEUX\\\\r\\\\n36 - Filtrage adaptatif : application au contrôle actif de bruit - D-2 - A.\\\\r\\\\nBOSIO, L. BAKO, M-A. GALLAND\\\\r\\\\n37 - Méthodes numériques en mécanique - A-8 - E GODEFERD, J. BOUDET, O.\\\\r\\\\nDESSOMBZ\\\\r\\\\n38 - Ingénierie et systèmes Haute Tension - F-3 - A. ZOUAGHI, E. VAGNON\\\\r\\\\n39 - Design optimal et mécanique des fluides numérique - F-8 - C. CORRE, S.\\\\r\\\\nAUBERT\\\\r\\\\n40 - Systèmes mécatroniques - F-2 - A. KORNIIENKO, C.\\\\r\\\\nMARCHAND, M. COLLET\\\\r\\\\n41 - Circuits et dispositifs en micro-ondes - C-2 - A. BREARD, L. PACE\\\\r\\\\n42 - Mathématiques appliquées à la biologie - c-l - L. SEPPECHER, P. MICHEL\\\\r\\\\n43 - Ecoulement diphasique et systèmes énergétiques - D-5 - M. CREYSSELS,\\\\r\\\\nM. GOROKHOVSKI\\\\r\\\\n44 - Antennes, signal et processeurs - F-6 - A BOSIO, A. BREARD, J. HUILLERY\\\\r\\\\n45 - Physico-chimie des surfaces et des Interfaces - 0-4 - D. MAZUYER, J.\\\\r\\\\nCAYER BARRIOZ\\\\r\\\\n46 - Simulation multiphysique en conception mécanique - C-7 - M. COLLET, S.\\\\r\\\\n47 - Acoustique musicale - F-4 - M. JACOB, M. ROGER, S. OLLIVIER\\\\r\\\\n48 - Analyser et observer la matière - C-5 - E DASSENOY, .M PHANER\\\\r\\\\nGOUTORBE\\\\r\\\\n49 - Du micro au macro en mécanique - E-6 - A. DANESCU, M. CREYSSELS\\\\r\\\\n50 - Dynamique des rotors en ingénierie mécanique - A-6 - E THOWEREZ, L\\\\r\\\\nBLANC\\\\r\\\\n51 - Space physics and solar-terrestrial coupling - D-12 - C CORRE, R.\\\\r\\\\nMARINO\\\\r\\\\n52 - Surfaces, friction, vibrations - E-lO - D. MAZUYER, J. PERRET LIAUDET\\\\r\\\\n53 - Propulseurs aéronautiques - E-7 - X OTTAW\\\\r\\\\n54 - Introduction aUX vibrations aléatoires - D-ll - A. LE BOT, J. HIJILLERY, J.\\\\r\\\\nPERRET LIAUDET\\\\r\\\\n55 - Optique et Photonique pour l\\'Ingénieur - A-5 - A. CALLARD, E. DROUARD\\\\r\\\\n56 - ordre, chaos, fractales - F-5 - C. BAILLY\\' D. DRAGNA\\\\r\\\\n57 - Analyse fonctionnelle : théorie et applications - B-l - M. MARION\\\\r\\\\nhttps://messagerie\\\\r\\\\n\", \\'ErrorMessage\\': \\'\\', \\'ErrorDetails\\': \\'\\'}], \\'OCRExitCode\\': 1, \\'IsErroredOnProcessing\\': False, \\'ProcessingTimeInMilliseconds\\': \\'2390\\', \\'SearchablePDFURL\\': \\'Searchable PDF not generated as it was not requested.\\'}'"
      ]
     },
     "execution_count": 78,
     "metadata": {},
     "output_type": "execute_result"
    }
   ],
   "source": [
    "txt_tst"
   ]
  },
  {
   "cell_type": "code",
   "execution_count": 77,
   "metadata": {},
   "outputs": [
    {
     "ename": "AttributeError",
     "evalue": "'bytes' object has no attribute 'read'",
     "output_type": "error",
     "traceback": [
      "\u001b[0;31m---------------------------------------------------------------------------\u001b[0m",
      "\u001b[0;31mAttributeError\u001b[0m                            Traceback (most recent call last)",
      "\u001b[0;32m/var/folders/l1/8_qbbp7d7hbgk9kkn4tkz2nh0000gn/T/ipykernel_43626/1843807460.py\u001b[0m in \u001b[0;36m<module>\u001b[0;34m\u001b[0m\n\u001b[0;32m----> 1\u001b[0;31m \u001b[0mjson\u001b[0m\u001b[0;34m.\u001b[0m\u001b[0mload\u001b[0m\u001b[0;34m(\u001b[0m\u001b[0mr\u001b[0m\u001b[0;34m.\u001b[0m\u001b[0mcontent\u001b[0m\u001b[0;34m)\u001b[0m\u001b[0;34m\u001b[0m\u001b[0;34m\u001b[0m\u001b[0m\n\u001b[0m",
      "\u001b[0;32m/Library/Frameworks/Python.framework/Versions/3.9/lib/python3.9/json/__init__.py\u001b[0m in \u001b[0;36mload\u001b[0;34m(fp, cls, object_hook, parse_float, parse_int, parse_constant, object_pairs_hook, **kw)\u001b[0m\n\u001b[1;32m    291\u001b[0m     \u001b[0mkwarg\u001b[0m\u001b[0;34m;\u001b[0m \u001b[0motherwise\u001b[0m\u001b[0;31m \u001b[0m\u001b[0;31m`\u001b[0m\u001b[0;31m`\u001b[0m\u001b[0mJSONDecoder\u001b[0m\u001b[0;31m`\u001b[0m\u001b[0;31m`\u001b[0m \u001b[0;32mis\u001b[0m \u001b[0mused\u001b[0m\u001b[0;34m.\u001b[0m\u001b[0;34m\u001b[0m\u001b[0;34m\u001b[0m\u001b[0m\n\u001b[1;32m    292\u001b[0m     \"\"\"\n\u001b[0;32m--> 293\u001b[0;31m     return loads(fp.read(),\n\u001b[0m\u001b[1;32m    294\u001b[0m         \u001b[0mcls\u001b[0m\u001b[0;34m=\u001b[0m\u001b[0mcls\u001b[0m\u001b[0;34m,\u001b[0m \u001b[0mobject_hook\u001b[0m\u001b[0;34m=\u001b[0m\u001b[0mobject_hook\u001b[0m\u001b[0;34m,\u001b[0m\u001b[0;34m\u001b[0m\u001b[0;34m\u001b[0m\u001b[0m\n\u001b[1;32m    295\u001b[0m         \u001b[0mparse_float\u001b[0m\u001b[0;34m=\u001b[0m\u001b[0mparse_float\u001b[0m\u001b[0;34m,\u001b[0m \u001b[0mparse_int\u001b[0m\u001b[0;34m=\u001b[0m\u001b[0mparse_int\u001b[0m\u001b[0;34m,\u001b[0m\u001b[0;34m\u001b[0m\u001b[0;34m\u001b[0m\u001b[0m\n",
      "\u001b[0;31mAttributeError\u001b[0m: 'bytes' object has no attribute 'read'"
     ]
    }
   ],
   "source": [
    "json.load(r.content)"
   ]
  },
  {
   "cell_type": "markdown",
   "metadata": {},
   "source": [
    "## Main Block"
   ]
  },
  {
   "cell_type": "code",
   "execution_count": 79,
   "metadata": {},
   "outputs": [
    {
     "name": "stdout",
     "output_type": "stream",
     "text": [
      "Résumé de votre questionnaire  scELCS8  Choix des cours électifs du S8.pdf\n",
      "Using OCR API to read PDF\n",
      "S8_Mises.pdf\n",
      "ellectifs S8.pdf\n",
      "Using OCR API to read PDF\n",
      "PENNA_Escolhas_s8.pdf\n",
      "mises_S8_Paganini.pdf\n",
      "Using OCR API to read PDF\n",
      "Gmail - Fwd_ Résumé de votre questionnaire _ sc_ELC_S8 - Choix des cours électifs du S8.pdf\n",
      "QuestionarioHelena.pdf\n",
      "Gmail - S8 Mahdi.pdf\n",
      "mises_s8.pdf\n",
      "S8OLI.pdf\n"
     ]
    }
   ],
   "source": [
    "from pdfminer.pdfinterp import PDFResourceManager, PDFPageInterpreter\n",
    "from pdfminer.converter import TextConverter\n",
    "from pdfminer.layout import LAParams\n",
    "from pdfminer.pdfpage import PDFPage\n",
    "from io import StringIO\n",
    "import re\n",
    "import os\n",
    "import json\n",
    "import requests\n",
    "import pandas as pd\n",
    "\n",
    "\n",
    "class PDF():\n",
    "    def __init__(self,file_path):\n",
    "        self.path = file_path      \n",
    "        self.text = self.convert_pdf_to_txt(self.path)\n",
    "    \n",
    "    def convert_pdf_to_txt(self,path, pages=None):\n",
    "        if not pages:\n",
    "            pagenums = set()\n",
    "        else:\n",
    "            pagenums = set(pages)\n",
    "        output = StringIO()\n",
    "        manager = PDFResourceManager()\n",
    "        converter = TextConverter(manager, output, laparams=LAParams())\n",
    "        interpreter = PDFPageInterpreter(manager, converter)\n",
    "    \n",
    "        infile = open(path, 'rb')\n",
    "        for page in PDFPage.get_pages(infile, pagenums):\n",
    "            interpreter.process_page(page)\n",
    "        infile.close()\n",
    "        converter.close()\n",
    "        text = output.getvalue()\n",
    "        output.close()\n",
    "        return text\n",
    "\n",
    "    def get_email(self):                        \n",
    "        email_pos = re.search('[a-z|.|-]+@ecl[0-9][0-9].ec-(\\n)*lyon.fr', pdf.text)\n",
    "        end = email_pos.span()[-1]\n",
    "        start = email_pos.span()[0]\n",
    "\n",
    "        email = pdf.text[start:end]\n",
    "\n",
    "        return email\n",
    "        \n",
    "    def get_mises(self):\n",
    "        mises_label = ['Mise 1','Mise 2','Mise 3','Mise 4','Mise 5']\n",
    "        mises_usuario = []\n",
    "        \n",
    "        for mise_text in mises_label:\n",
    "            mise_value = ''\n",
    "\n",
    "            index =  self.text.find(mise_text) + 9   \n",
    "            char =  self.text[index]\n",
    "\n",
    "            while (char != ' ' and char != '\\n'):       \n",
    "                mise_value += char\n",
    "                index += 1\n",
    "                char =  self.text[index]  \n",
    "\n",
    "            if ',' in mise_value:                    \n",
    "                mise_value = mise_value.replace(',','.')                                              \n",
    "            mise_value = float(mise_value)\n",
    "\n",
    "            mises_usuario.append(mise_value)\n",
    "        \n",
    "        return mises_usuario\n",
    "\n",
    "    def get_subjects(self):\n",
    "        pos1 = re.search('aléatoirement.', pdf.text)\n",
    "        text_choices = pdf.text[pos1.span()[-1]:]\n",
    "\n",
    "        separator = ' '\n",
    "        if '\\xa0\\xa0\\xa0' in text_choices:\n",
    "            separator = '\\xa0'\n",
    "\n",
    "        tst_list = []\n",
    "        subject_dict = {}\n",
    "        all_selected = True  # did the person select all subjects? \n",
    "\n",
    "        for i in range(1,57):\n",
    "            try:\n",
    "                init = re.search(f'{separator}{i} - ', text_choices).span()[0]  # init of subject\n",
    "            except:\n",
    "                separator = '\\n'\n",
    "                init = re.search(f'{separator}{i} - ', text_choices).span()[0]  # init of subject\n",
    "            try: \n",
    "                end = re.search(f'{separator}{i+1} - ', text_choices).span()[0]  # end of subject\n",
    "            except:\n",
    "                all_selected = False\n",
    "                break  # if the person has not put all\n",
    "\n",
    "            subject = text_choices[init : end]\n",
    "            subject = subject.split('https')[0].replace('\\n', '').strip()  # remove zimbra link and line breaks\n",
    "            tst_list.append(subject)\n",
    "\n",
    "            subject_dict[i] = subject.split(f'{i} - ', 1)[1]\n",
    "\n",
    "        if all_selected:\n",
    "            i += 1\n",
    "\n",
    "        subject = text_choices[end:].split('https', 1)[0]# .replace('\\n', '').split('\\n', 1)[0].strip()\n",
    "        tst_list.append(subject)\n",
    "        subject_dict[i] = subject.split(f'{i} - ')[1].split('\\n', 1)[0].replace('\\n', '').strip()\n",
    "        return subject_dict\n",
    "\n",
    "\n",
    "def getTextOCR(file_path: str) -> str:\n",
    "    \"\"\"\n",
    "        Use OCR API to return text of image in pdf file/format\n",
    "\n",
    "        ## PARAMS:\n",
    "            - file_path: string\n",
    "\n",
    "        ## Returns:\n",
    "            - result of API call in string\n",
    "    \"\"\"\n",
    "    UserName =  'PETERBANANINHA005'\n",
    "    LicenseCode = 'D360C2A3-0877-42BB-9C97-3B550933A647'\n",
    "\n",
    "    # Extract text with English language by default\n",
    "    RequestUrl = \"http://www.ocrwebservice.com/restservices/processDocument?language=french&gettext=true&outputformat=txt\"\n",
    "\n",
    "    with open(file, 'rb') as image_file:\n",
    "        image_data = image_file.read()\n",
    "        \n",
    "    r = requests.post(RequestUrl, data=image_data, auth=(UserName, LicenseCode))\n",
    "\n",
    "    if r.status_code == 401:\n",
    "        # Please provide valid username and license code\n",
    "        print(\"Unauthorized request\")\n",
    "        exit()\n",
    "\n",
    "    # Decode Output response\n",
    "    jobj = json.loads(r.content)\n",
    "\n",
    "    ocrError = str(jobj[\"ErrorMessage\"])\n",
    "\n",
    "    if ocrError != '':\n",
    "        #Error occurs during recognition\n",
    "        print (\"Recognition Error: \" + ocrError)\n",
    "        exit()\n",
    "\n",
    "    return str(jobj[\"OCRText\"])\n",
    "\n",
    "\n",
    "if __name__ == '__main__':\n",
    "    if 'pdfs' not in os.getcwd():\n",
    "        os.chdir(os.getcwd() + '/pdfs')  # folder with all pdfs\n",
    "\n",
    "    columns = ['Email'] +  [f'Mise {i}' for i in range(1,6)] + [i for i in range(1,58)]\n",
    "    df = pd.DataFrame(columns = columns)\n",
    "\n",
    "    for file in os.listdir(os.getcwd()):\n",
    "        path = os.getcwd() + '/' + file\n",
    "        pdf = PDF(path)\n",
    "\n",
    "        if len(pdf.text) < 100:\n",
    "            print('Using OCR API to read PDF')\n",
    "            continue\n",
    "            pdf.text = getTextOCR(path)\n",
    "\n",
    "        print(file)\n",
    "        email = pdf.get_email()\n",
    "        mises = pdf.get_mises()\n",
    "        subjects = [value for value in pdf.get_subjects().values()]\n",
    "\n",
    "        if len(subjects) < 57:\n",
    "            missing = 57 - len(subjects)\n",
    "            subjects += ['-' for i in range(missing)]\n",
    "\n",
    "        row = pd.Series([email] + mises +  subjects, index=df.columns)\n",
    "        df = df.append(row, ignore_index=True)\n"
   ]
  },
  {
   "cell_type": "markdown",
   "metadata": {},
   "source": [
    "### Testing Output"
   ]
  },
  {
   "cell_type": "code",
   "execution_count": 81,
   "metadata": {},
   "outputs": [],
   "source": [
    "df.to_clipboard(excel=True)"
   ]
  },
  {
   "cell_type": "code",
   "execution_count": 4,
   "metadata": {},
   "outputs": [
    {
     "name": "stdout",
     "output_type": "stream",
     "text": [
      "Résumé de votre questionnaire  scELCS8  Choix des cours électifs du S8.pdf\n",
      "ENZO DA ROCHA PAES ALVES BARRETO  -  Choix Electif S8.pdf\n",
      "S8_Mises.pdf\n",
      "ellectifs S8.pdf\n",
      "s8 ana.pdf\n",
      "PENNA_Escolhas_s8.pdf\n",
      "mises_S8_Paganini.pdf\n",
      "tulio choises.pdf\n",
      "Gmail - Fwd_ Résumé de votre questionnaire _ sc_ELC_S8 - Choix des cours électifs du S8.pdf\n",
      "QuestionarioHelena.pdf\n",
      "Gmail - S8 Mahdi.pdf\n",
      "mises_s8.pdf\n",
      "S8OLI.pdf\n"
     ]
    }
   ],
   "source": [
    "import os\n",
    "\n",
    "if 'pdfs' not in os.getcwd():\n",
    "    os.chdir(os.getcwd() + '/pdfs')  # folder with all pdfs\n",
    "\n",
    "\n",
    "for file in os.listdir(os.getcwd()):\n",
    "    path = os.getcwd() + '/' + file\n",
    "\n",
    "    print(file)\n"
   ]
  },
  {
   "cell_type": "code",
   "execution_count": null,
   "metadata": {},
   "outputs": [],
   "source": []
  }
 ],
 "metadata": {
  "kernelspec": {
   "display_name": "Python 3",
   "language": "python",
   "name": "python3"
  },
  "language_info": {
   "codemirror_mode": {
    "name": "ipython",
    "version": 3
   },
   "file_extension": ".py",
   "mimetype": "text/x-python",
   "name": "python",
   "nbconvert_exporter": "python",
   "pygments_lexer": "ipython3",
   "version": "3.9.9"
  }
 },
 "nbformat": 4,
 "nbformat_minor": 4
}
