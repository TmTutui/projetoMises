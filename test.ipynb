{
 "cells": [
  {
   "cell_type": "markdown",
   "metadata": {},
   "source": [
    "### Import Libs"
   ]
  },
  {
   "cell_type": "code",
   "execution_count": 1,
   "metadata": {},
   "outputs": [],
   "source": [
    "import pandas as pd\n",
    "import numpy as np\n",
    "import matplotlib.pyplot as plt\n",
    "from matplotlib.backends.backend_pdf import PdfPages\n",
    "import sqlite3\n",
    "import ast"
   ]
  },
  {
   "cell_type": "markdown",
   "metadata": {},
   "source": [
    "### Df Params"
   ]
  },
  {
   "cell_type": "code",
   "execution_count": 20,
   "metadata": {},
   "outputs": [],
   "source": [
    "get_email = False\n",
    "af_by_name = True"
   ]
  },
  {
   "cell_type": "markdown",
   "metadata": {},
   "source": [
    "### Getting df from db"
   ]
  },
  {
   "cell_type": "code",
   "execution_count": 21,
   "metadata": {},
   "outputs": [],
   "source": [
    "columns = [f'Mise {i}' for i in range(1,6)] + [i for i in range(1,58)]\n",
    "query_columns = 'Mises, AF'\n",
    "if get_email:\n",
    "    columns = ['Email'] + columns\n",
    "    query_columns = query_columns + ', email'\n",
    "\n",
    "df = pd.DataFrame(columns = columns)\n",
    "AF_dict = pd.read_pickle('Dicionario.pkl')\n",
    "\n",
    "conn = sqlite3.connect(\"banco_de_dados.db\")\n",
    "cursor = conn.cursor()\n",
    "cmd = f\"SELECT {query_columns} from questionnaire_s8 ORDER BY ID ASC\"\n",
    "cursor.execute(cmd)\n",
    "query_result = cursor.fetchall()\n",
    "\n",
    "for i in range(len(query_result)):\n",
    "    disciplinas = ast.literal_eval(query_result[i][1])\n",
    "    if af_by_name: disciplinas = list(map(lambda x: AF_dict[x],disciplinas))\n",
    "    \n",
    "    if len(disciplinas) < 57:\n",
    "        missing = 57 - len(disciplinas)\n",
    "        disciplinas += ['-' for i in range(missing)]\n",
    "    \n",
    "    if get_email:\n",
    "        row = pd.Series([query_result[i][2]] + ast.literal_eval(query_result[i][0]) +  disciplinas, index=df.columns)\n",
    "    else:\n",
    "        row = pd.Series(ast.literal_eval(query_result[i][0]) +  disciplinas, index=df.columns)\n",
    "\n",
    "    df = df.append(row, ignore_index=True)"
   ]
  },
  {
   "cell_type": "markdown",
   "metadata": {},
   "source": [
    "### Creating Visualization"
   ]
  },
  {
   "cell_type": "markdown",
   "metadata": {},
   "source": [
    "#### Organizing data"
   ]
  },
  {
   "cell_type": "code",
   "execution_count": 64,
   "metadata": {},
   "outputs": [],
   "source": [
    "dict_AF = {}\n",
    "\n",
    "for index in df.index:\n",
    "    subjects = df.loc[index, [i+1 for i in range(57)]]\n",
    "\n",
    "    for subject_index in range(1, subjects.shape[0]+1):\n",
    "        subject = subjects.loc[subject_index]\n",
    "\n",
    "        if subject in dict_AF:\n",
    "            dict_AF[subject].append(subject_index)\n",
    "        else: \n",
    "            dict_AF[subject] = [subject_index]"
   ]
  },
  {
   "cell_type": "code",
   "execution_count": 65,
   "metadata": {},
   "outputs": [],
   "source": [
    "dict_mises = {}\n",
    "\n",
    "for index in df.index:\n",
    "    mises = df.loc[index, [f'Mise {i+1}' for i in range(5)]]\n",
    "\n",
    "    for position in range(1, mises.shape[0]+1):\n",
    "        mise = mises.loc[f'Mise {position}']\n",
    "\n",
    "        if f'Mise {position}' in dict_mises:\n",
    "            dict_mises[f'Mise {position}'].append(mise)\n",
    "        else: \n",
    "            dict_mises[f'Mise {position}'] = [mise]\n"
   ]
  },
  {
   "cell_type": "code",
   "execution_count": 89,
   "metadata": {},
   "outputs": [],
   "source": [
    "dict_AF = dict(reversed(sorted(dict_AF.items())))  # Afs in alphabetical order"
   ]
  },
  {
   "cell_type": "markdown",
   "metadata": {},
   "source": [
    "#### Creating plot"
   ]
  },
  {
   "cell_type": "code",
   "execution_count": null,
   "metadata": {},
   "outputs": [],
   "source": [
    "with PdfPages('histogramas.pdf') as pdf:\n",
    "    for subject, classifications in dict_AF.items():\n",
    "        if subject == '-':  # skip '-'\n",
    "            continue\n",
    "        \n",
    "        plt.figure(figsize=(17,10))\n",
    "        plt.hist(classifications, bins=range(1,59), align='left', rwidth=.8)\n",
    "\n",
    "        loc, labels = plt.yticks()\n",
    "        locx, labelsx = plt.xticks()\n",
    "        plt.yticks(np.arange(0, max(loc), step=1))\n",
    "        plt.grid(axis='y', alpha=0.5)\n",
    "        plt.xticks(np.arange(1, 58, step=1))\n",
    "\n",
    "        plt.title(subject, fontsize=20)\n",
    "        plt.xlabel('Position', fontsize=20)\n",
    "        plt.ylabel('Quantité de personnes', fontsize=20)\n",
    "        pdf.savefig()"
   ]
  },
  {
   "cell_type": "markdown",
   "metadata": {},
   "source": []
  },
  {
   "cell_type": "code",
   "execution_count": null,
   "metadata": {},
   "outputs": [],
   "source": []
  }
 ],
 "metadata": {
  "interpreter": {
   "hash": "aee8b7b246df8f9039afb4144a1f6fd8d2ca17a180786b69acc140d282b71a49"
  },
  "kernelspec": {
   "display_name": "Python 3.9.9 64-bit",
   "language": "python",
   "name": "python3"
  },
  "language_info": {
   "codemirror_mode": {
    "name": "ipython",
    "version": 3
   },
   "file_extension": ".py",
   "mimetype": "text/x-python",
   "name": "python",
   "nbconvert_exporter": "python",
   "pygments_lexer": "ipython3",
   "version": "3.9.9"
  },
  "orig_nbformat": 4
 },
 "nbformat": 4,
 "nbformat_minor": 2
}
